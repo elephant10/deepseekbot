{
 "cells": [
  {
   "cell_type": "code",
   "execution_count": null,
   "id": "0d207509",
   "metadata": {},
   "outputs": [],
   "source": [
    "from openai import OpenAI\n",
    "from dotenv import load_dotenv \n",
    "load_dotenv()\n",
    "import os\n",
    "\n",
    "class Deepseek :\n",
    "    \n",
    "    base_url = \"https://api.deepseek.com\"\n",
    "    def __init__(self, api_key =  None):\n",
    "        api_key = api_key or os.environ.get(\"deepseek_key\")\n",
    "        if api_key is None:\n",
    "            raise ValueError(\"API key is required\")\n",
    "        self.client = OpenAI(api_key=api_key, base_url=Deepseek.base_url)\n",
    "\n",
    "    def chat(self, message: str, model:str=\"deepseek-chat\"):\n",
    "        response = self.client.chat.completions.create(\n",
    "            model=model,\n",
    "            messages=[\n",
    "                {\"role\": \"system\", \"content\": \"You are a helpful assistant\"},\n",
    "                {\"role\": \"user\", \"content\": message},\n",
    "            ],\n",
    "            stream=False,\n",
    "            temperature=0.6\n",
    "        )\n",
    "        return response.choices[0].message.content\n",
    "resp = None\n",
    "#test\n",
    "if __name__ == \"__main__\":\n",
    "    resp = Deepseek().chat(\"Hello, how are you?\")"
   ]
  },
  {
   "cell_type": "code",
   "execution_count": 15,
   "id": "ea85e4de",
   "metadata": {},
   "outputs": [
    {
     "name": "stdout",
     "output_type": "stream",
     "text": [
      "(\"Hello! I'm just a virtual assistant, so I don't have feelings, but I'm here \"\n",
      " 'and ready to help you with anything you need. How about you? How are you '\n",
      " 'doing today? 😊')\n"
     ]
    }
   ],
   "source": [
    "from pprint import pprint\n",
    "#import json\n",
    "\n",
    "pprint(resp)"
   ]
  }
 ],
 "metadata": {
  "kernelspec": {
   "display_name": ".venv",
   "language": "python",
   "name": "python3"
  },
  "language_info": {
   "codemirror_mode": {
    "name": "ipython",
    "version": 3
   },
   "file_extension": ".py",
   "mimetype": "text/x-python",
   "name": "python",
   "nbconvert_exporter": "python",
   "pygments_lexer": "ipython3",
   "version": "3.12.6"
  }
 },
 "nbformat": 4,
 "nbformat_minor": 5
}
