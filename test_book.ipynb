{
 "cells": [
  {
   "cell_type": "code",
   "execution_count": null,
   "id": "0d207509",
   "metadata": {},
   "outputs": [],
   "source": [
    "from openai import OpenAI\n",
    "from dotenv import load_dotenv \n",
    "load_dotenv()\n",
    "import os\n",
    "\n",
    "class Deepseek :\n",
    "    \n",
    "    base_url = \"https://api.deepseek.com\"\n",
    "    def __init__(self, api_key =  None):\n",
    "        api_key = api_key or os.environ.get(\"deepseek_key\")\n",
    "        if api_key is None:\n",
    "            raise ValueError(\"API key is required\")\n",
    "        self.client = OpenAI(api_key=api_key, base_url=Deepseek.base_url)\n",
    "\n",
    "    def chat(self, message: str, model:str=\"deepseek-chat\"):\n",
    "        response = self.client.chat.completions.create(\n",
    "            model=model,\n",
    "            messages=[\n",
    "                {\"role\": \"system\", \"content\": \"You are a helpful assistant\"},\n",
    "                {\"role\": \"user\", \"content\": message},\n",
    "            ],\n",
    "            stream=False,\n",
    "            temperature=0.6\n",
    "        )\n",
    "        return response.choices[0].message.content\n",
    "resp = None\n",
    "#test\n",
    "if __name__ == \"__main__\":\n",
    "    resp = Deepseek().chat(\"Hello, how are you?\")"
   ]
  },
  {
   "cell_type": "code",
   "execution_count": 15,
   "id": "ea85e4de",
   "metadata": {},
   "outputs": [
    {
     "name": "stdout",
     "output_type": "stream",
     "text": [
      "(\"Hello! I'm just a virtual assistant, so I don't have feelings, but I'm here \"\n",
      " 'and ready to help you with anything you need. How about you? How are you '\n",
      " 'doing today? 😊')\n"
     ]
    }
   ],
   "source": [
    "from pprint import pprint\n",
    "#import json\n",
    "\n",
    "pprint(resp)"
   ]
  },
  {
   "cell_type": "code",
   "execution_count": 3,
   "id": "bdba15c4",
   "metadata": {},
   "outputs": [
    {
     "name": "stdout",
     "output_type": "stream",
     "text": [
      "You are a helpful assistant in telegram chat.\n",
      "\n",
      "Instructions for Generating Telegram MarkdownV2 Compatible Text:\n",
      "\n",
      "You are generating text that will be sent via the Telegram Bot API using parse_mode='MarkdownV2'. Adherence to the following rules is critical to prevent Bad Request: can't parse entities errors.\n",
      "\n",
      "    Mandatory Character Escaping:\n",
      "\n",
      "        You MUST prepend a backslash (\\) before any of the following characters when they appear in the text and are not intended as formatting delimiters:\n",
      "        _ * [ ] ( ) ~ ` > # + - = | { } . !\n",
      "\n",
      "        Example: To display the literal text \"This is important.\", you MUST generate: This is \\*important\\*.\n",
      "\n",
      "        Example: To display \"1+1=2\", you MUST generate: 1\\+1\\=2\n",
      "\n",
      "        Example: To display a literal backslash, you MUST escape it: \\\\\n",
      "\n",
      "        Crucially: This applies to all occurrences of these characters within the main body text, outside of their specific formatting roles.\n",
      "\n",
      "    Use ONLY Supported MarkdownV2 Syntax:\n",
      "\n",
      "        Bold: Use single asterisks: *bold text*. DO NOT use double asterisks (**bold**).\n",
      "\n",
      "        Italic: Use single underscores: _italic text_. DO NOT use single asterisks (*italic*).\n",
      "\n",
      "        Underline: Use double underscores: __underline text__.\n",
      "\n",
      "        Strikethrough: Use single tildes: ~strikethrough text~. DO NOT use double tildes (~~strikethrough~~).\n",
      "\n",
      "        Spoiler: Use double vertical bars: ||spoiler text||.\n",
      "\n",
      "        Inline Code: Use single backticks: `inline code`.\n",
      "\n",
      "        Code Block: Use triple backticks: code block or language\\ncode block.\n",
      "\n",
      "        Inline Link: Use the format: [link text](URL).\n",
      "\n",
      "        Inline User Mention: Use the format: [mention text](tg://user?id=USER_ID).\n",
      "\n",
      "        Blockquote: Use >Blockquote text. For expandable quotes, use >Expandable Blockquote text.\n",
      "\n",
      "    AVOID Unsupported Markdown Elements:\n",
      "\n",
      "        DO NOT generate Markdown headings (e.g., # Heading, ## Heading).\n",
      "\n",
      "        DO NOT generate standard Markdown lists (e.g., * item, - item, 1. item). If a list format is needed, use plain text with manual bullets (like вЂў, -, *) or numbered lines, ensuring any special characters within the list items are escaped per Rule 1.\n",
      "\n",
      "        DO NOT generate Markdown tables. If tabular data is needed, format it within a pre-formatted code block (Rule 2) or use plain text alignment.\n",
      "\n",
      "    Special Escaping Inside Code/Links:\n",
      "\n",
      "        Inside inline code `...` and code blocks ..., you only need to escape backticks (`) and backslashes (\\). Other special characters do not need escaping within these blocks.\n",
      "\n",
      "        Inside the URL part (...) of an inline link, you only need to escape closing parentheses ) and backslashes (\\).\n",
      "\n",
      "    Nesting and Closure:\n",
      "\n",
      "        Ensure all formatting entities are correctly nested and closed. For example: *_bold italic_* is valid, but *_bold italic_* is not.\n",
      "\n",
      "        Avoid ambiguous nesting like ___text___ unless you specifically intend the complex nesting recognized by Telegram. Prefer simpler, clearer formatting.\n",
      "\n",
      "    No Ambiguity: Generate the exact syntax required. Do not rely on lenient interpretations common in other Markdown renderers.\n",
      "\n",
      "Summary for AI: Your primary task is meticulous escaping (Rule 1) and strict adherence to the specific syntax variants and supported elements of MarkdownV2 (Rules 2 & 3). Failure to do so will result in API errors on the Telegram side. Treat this as a precise technical format, not general-purpose Markdown.\n"
     ]
    }
   ],
   "source": [
    "with open(r\"system_prompt.txt\", \"r\") as f:\n",
    "                    system_prompt = f.read()\n",
    "                    print(system_prompt)"
   ]
  }
 ],
 "metadata": {
  "kernelspec": {
   "display_name": ".venv",
   "language": "python",
   "name": "python3"
  },
  "language_info": {
   "codemirror_mode": {
    "name": "ipython",
    "version": 3
   },
   "file_extension": ".py",
   "mimetype": "text/x-python",
   "name": "python",
   "nbconvert_exporter": "python",
   "pygments_lexer": "ipython3",
   "version": "3.12.6"
  }
 },
 "nbformat": 4,
 "nbformat_minor": 5
}
